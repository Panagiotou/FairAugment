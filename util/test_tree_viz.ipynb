{
 "cells": [
  {
   "cell_type": "code",
   "execution_count": null,
   "metadata": {},
   "outputs": [],
   "source": [
    "import sys \n",
    "sys.path.append(\"..\")\n",
    "from src.dataset import Dataset\n",
    "import pandas as pd\n",
    "import os\n",
    "import numpy as np\n",
    "from sklearn.exceptions import NotFittedError\n",
    "import copy\n",
    "\n",
    "RUN_GPU = False\n"
   ]
  },
  {
   "cell_type": "code",
   "execution_count": null,
   "metadata": {},
   "outputs": [],
   "source": [
    "from fairlearn.metrics import demographic_parity_difference, demographic_parity_ratio, true_positive_rate_difference, true_positive_rate, false_positive_rate_difference\n",
    "\n",
    "def eq_odd(y_test, y_pred, group_test):\n",
    "    return true_positive_rate_difference(y_test, y_pred, sensitive_features=group_test)\\\n",
    "                + false_positive_rate_difference(y_test, y_pred, sensitive_features=group_test)"
   ]
  },
  {
   "cell_type": "code",
   "execution_count": null,
   "metadata": {},
   "outputs": [],
   "source": [
    "import warnings\n",
    "\n",
    "# Ignore FutureWarnings\n",
    "warnings.simplefilter(action='ignore', category=FutureWarning)"
   ]
  },
  {
   "cell_type": "code",
   "execution_count": null,
   "metadata": {},
   "outputs": [],
   "source": [
    "from sklearn.metrics import accuracy_score, f1_score, roc_auc_score, precision_score, recall_score\n",
    "import xgboost as xgb\n",
    "\n",
    "from catboost import CatBoostClassifier\n",
    "from sklearn.tree import DecisionTreeClassifier\n",
    "from sklearn.ensemble import RandomForestClassifier\n",
    "\n",
    "if RUN_GPU:\n",
    "    from cuml import RandomForestClassifier, DecisionTreeClassifier\n",
    "\n",
    "from sklearn.pipeline import Pipeline\n",
    "from sklearn.compose import ColumnTransformer\n",
    "from sklearn.preprocessing import StandardScaler, OneHotEncoder\n",
    "from sklearn.base import BaseEstimator\n"
   ]
  },
  {
   "cell_type": "code",
   "execution_count": null,
   "metadata": {},
   "outputs": [],
   "source": [
    "adult_dataset_generator = Dataset(\"adult\")\n",
    "all_data = adult_dataset_generator.original_dataframe.copy()"
   ]
  },
  {
   "cell_type": "code",
   "execution_count": null,
   "metadata": {},
   "outputs": [],
   "source": [
    "from definitions import *"
   ]
  },
  {
   "cell_type": "code",
   "execution_count": null,
   "metadata": {},
   "outputs": [],
   "source": [
    "\n",
    "\n",
    "# problem_classification = {\"metrics\":[accuracy_score,  precision_score, recall_score, f1_score, roc_auc_score],\n",
    "#                       \"metric_names\":[\"Accuracy\", \"P\", \"R\", \"F1\", \"ROC AUC\"],\n",
    "#                       \"fairness_metrics\": [eq_odd],\n",
    "#                       \"fairness_metric_names\": [\"Equalized odds\"],\n",
    "#                       \"generative_methods\": [\"tvae\", \"cart\", \"smote\"],}\n",
    "                      \n",
    "problem_classification = {\"metrics\":[accuracy_score, f1_score, roc_auc_score],\n",
    "                      \"metric_names\":[\"Accuracy\", \"F1\", \"ROC AUC\"],\n",
    "                      \"fairness_metrics\": [eq_odd],\n",
    "                      \"fairness_metric_names\": [\"Equalized odds\"],\n",
    "                      \"generative_methods\": [\"tvae\", \"cart\", \"smote\"],}\n",
    "\n",
    "\n",
    "# We create the preprocessing pipelines for both numeric and categorical data.\n",
    "numeric_transformer = Pipeline(steps=[\n",
    "    ('scaler', StandardScaler())])\n",
    "\n",
    "categorical_transformer = Pipeline(steps=[\n",
    "    ('onehot', OneHotEncoder(handle_unknown='ignore'))])\n",
    "\n",
    "\n",
    "categorical_cols = adult_dataset_generator.categorical_input_cols.copy()\n",
    "categorical_cols.remove(\"sex\")\n",
    "\n",
    "transformations = ColumnTransformer(\n",
    "    transformers=[\n",
    "        ('num', numeric_transformer, adult_dataset_generator.continuous_input_cols),\n",
    "        ('cat', categorical_transformer, categorical_cols)])\n",
    "\n",
    "\n",
    "# Append classifier to preprocessing pipeline.\n",
    "# Now we have a full prediction pipeline.\n",
    "clf_RF = Pipeline(steps=[('preprocessor', transformations),\n",
    "                      ('classifier', RandomForestClassifier(random_state=42))])\n",
    "clf_DT = Pipeline(steps=[('preprocessor', transformations),\n",
    "                    ('classifier', DecisionTreeClassifier(random_state=42))])     \n",
    "\n",
    "\n",
    "# models = [MultiOutputRegressor(LGBMRegressor(random_state=42)), DecisionTreeRegressor(random_state=42), RandomForestRegressor(random_state=42)]\n",
    "# models_classification = [xgb.XGBClassifier, CatBoostClassifier, DecisionTreeClassifier, RandomForestClassifier]\n",
    "# models_classification = [xgb.XGBClassifier]\n",
    "models_classification = [CatBoostClassifier, clf_DT, clf_RF]\n",
    "\n",
    "# args = [{\"random_state\":42}, {\"random_state\":42, \"loss_function\":\"MultiRMSE\", \"verbose\":False, \"iterations\":100, \"learning_rate\":0.01}, {\"random_state\":42}, {\"random_state\":42}]\n",
    "args = [{\"random_state\":42, \"loss_function\":\"Logloss\", \"verbose\":False, \"iterations\":100, \"learning_rate\":0.01, \"cat_features\":adult_dataset_generator.categorical_input_cols}, {}, {}]\n",
    "\n",
    "if RUN_GPU:\n",
    "    args[0][\"task_type\"] = \"GPU\"\n",
    "\n",
    "\n",
    "# model_names_classification = [\"xgboost\", \"catboost\", \"DT\", \"RF\"]\n",
    "model_names_classification = [\"Catboost\", \"Decission Tree\", \"Random Forest\"]\n",
    "problems_classification = []\n",
    "for model, name, arg in zip(models_classification, model_names_classification, args):\n",
    "    problem = problem_classification.copy()\n",
    "    problem[\"model\"] = copy.deepcopy(model)\n",
    "    problem[\"model_name\"] = name\n",
    "    problem[\"args\"] = arg\n",
    "    problems_classification.append(problem)"
   ]
  },
  {
   "cell_type": "code",
   "execution_count": null,
   "metadata": {},
   "outputs": [],
   "source": [
    "average, std, feat_imp_average, feat_imp_std = run_experiments(problems_classification, adult_dataset_generator, all_data, num_repeats = 5, num_folds = 3, protected_attributes = [\"sex\"], visualize_tree=True)\n",
    "# average, std = run_experiments(problems_classification, adult_dataset_generator, all_data, num_repeats = 1, num_folds = 2, protected_attributes = [\"sex\"])"
   ]
  },
  {
   "cell_type": "code",
   "execution_count": null,
   "metadata": {},
   "outputs": [],
   "source": [
    "np.savez('../results/arrays_test_many_repeats_no_fnlwgt.npz', average=average, std=std, feat_imp_average=feat_imp_average, feat_imp_std=feat_imp_std)\n"
   ]
  },
  {
   "cell_type": "code",
   "execution_count": null,
   "metadata": {},
   "outputs": [],
   "source": [
    "average.shape"
   ]
  },
  {
   "cell_type": "code",
   "execution_count": null,
   "metadata": {},
   "outputs": [],
   "source": [
    "metric_names_actual = [\"Accuracy\", \"F1\", \"Equalized Odds\"]\n",
    "names_train = [\"Adult\", \"Augmented Adult (TVAE)\", \"Augmented Adult (CART)\", \"Augmented Adult (SMOTENC)\"]\n",
    "test_sets, _ = adult_dataset_generator.split_population(all_data)\n",
    "protected_attributes = [\"Sex\"]\n",
    "\n",
    "# names_test = [f\"Sex={value}\" for value in test_sets.keys()]\n",
    "names_test = []\n",
    "names_test.append(\"Overall\")\n",
    "latex_table = generate_latex_table1(average, std, names_train, names_test, problems_classification, metric_names_actual=metric_names_actual, test_data=True)\n",
    "print(latex_table)\n"
   ]
  }
 ],
 "metadata": {
  "kernelspec": {
   "display_name": "samplestructures",
   "language": "python",
   "name": "python3"
  },
  "language_info": {
   "codemirror_mode": {
    "name": "ipython",
    "version": 3
   },
   "file_extension": ".py",
   "mimetype": "text/x-python",
   "name": "python",
   "nbconvert_exporter": "python",
   "pygments_lexer": "ipython3",
   "version": "3.11.5"
  }
 },
 "nbformat": 4,
 "nbformat_minor": 2
}
