{
 "cells": [
  {
   "cell_type": "code",
   "execution_count": 1,
   "metadata": {},
   "outputs": [],
   "source": [
    "import sys \n",
    "sys.path.append(\"..\")\n",
    "from src.dataset import Dataset\n",
    "import pandas as pd\n",
    "import os"
   ]
  },
  {
   "cell_type": "code",
   "execution_count": 2,
   "metadata": {},
   "outputs": [],
   "source": [
    "adult_dataset_generator = Dataset(\"adult\")"
   ]
  },
  {
   "cell_type": "code",
   "execution_count": 3,
   "metadata": {},
   "outputs": [
    {
     "name": "stdout",
     "output_type": "stream",
     "text": [
      "       age         workclass  fnlwgt   education      marital-status  \\\n",
      "0       39         State-gov   77516   Bachelors       Never-married   \n",
      "1       50  Self-emp-not-inc   83311   Bachelors  Married-civ-spouse   \n",
      "2       38           Private  215646     HS-grad            Divorced   \n",
      "3       53           Private  234721        11th  Married-civ-spouse   \n",
      "4       28           Private  338409   Bachelors  Married-civ-spouse   \n",
      "...    ...               ...     ...         ...                 ...   \n",
      "32556   27           Private  257302  Assoc-acdm  Married-civ-spouse   \n",
      "32557   40           Private  154374     HS-grad  Married-civ-spouse   \n",
      "32558   58           Private  151910     HS-grad             Widowed   \n",
      "32559   22           Private  201490     HS-grad       Never-married   \n",
      "32560   52      Self-emp-inc  287927     HS-grad  Married-civ-spouse   \n",
      "\n",
      "              occupation   relationship   race     sex  capital-gain  \\\n",
      "0           Adm-clerical  Not-in-family  White    Male          2174   \n",
      "1        Exec-managerial        Husband  White    Male             0   \n",
      "2      Handlers-cleaners  Not-in-family  White    Male             0   \n",
      "3      Handlers-cleaners        Husband  Other    Male             0   \n",
      "4         Prof-specialty           Wife  Other  Female             0   \n",
      "...                  ...            ...    ...     ...           ...   \n",
      "32556       Tech-support           Wife  White  Female             0   \n",
      "32557  Machine-op-inspct        Husband  White    Male             0   \n",
      "32558       Adm-clerical      Unmarried  White  Female             0   \n",
      "32559       Adm-clerical      Own-child  White    Male             0   \n",
      "32560    Exec-managerial           Wife  White  Female         15024   \n",
      "\n",
      "       capital-loss  hours-per-week native-country income  \n",
      "0                 0              40  United-States  <=50K  \n",
      "1                 0              13  United-States  <=50K  \n",
      "2                 0              40  United-States  <=50K  \n",
      "3                 0              40  United-States  <=50K  \n",
      "4                 0              40          Other  <=50K  \n",
      "...             ...             ...            ...    ...  \n",
      "32556             0              38  United-States  <=50K  \n",
      "32557             0              40  United-States   >50K  \n",
      "32558             0              40  United-States  <=50K  \n",
      "32559             0              20  United-States  <=50K  \n",
      "32560             0              40  United-States   >50K  \n",
      "\n",
      "[32561 rows x 14 columns]\n"
     ]
    }
   ],
   "source": [
    "protected_attributes = [\"sex\"]\n",
    "split_dfs, additional_sizes = adult_dataset_generator.split_population(adult_dataset_generator.original_dataframe, protected_attributes)\n",
    "\n",
    "print(adult_dataset_generator.original_dataframe)"
   ]
  },
  {
   "cell_type": "code",
   "execution_count": 4,
   "metadata": {},
   "outputs": [
    {
     "name": "stdout",
     "output_type": "stream",
     "text": [
      "{0: 'Other', 1: 'White'}\n"
     ]
    }
   ],
   "source": [
    "print(adult_dataset_generator.original_mappings[\"race\"])"
   ]
  },
  {
   "cell_type": "code",
   "execution_count": 5,
   "metadata": {},
   "outputs": [
    {
     "data": {
      "image/png": "[encoded data removed]",
      "text/plain": [
       "<Figure size 1000x600 with 1 Axes>"
      ]
     },
     "metadata": {},
     "output_type": "display_data"
    },
    {
     "name": "stdout",
     "output_type": "stream",
     "text": [
      "{'Female': 11019}\n"
     ]
    }
   ],
   "source": [
    "import matplotlib.pyplot as plt\n",
    "# Plot population sizes of all split DataFrames\n",
    "plt.figure(figsize=(10, 6))\n",
    "for split_key, split_df in split_dfs.items():\n",
    "    population_size = len(split_df)\n",
    "    split_key_names = []\n",
    "    split_key_names_t = str(split_key_names)\n",
    "    plt.bar(split_key, population_size, label=split_key)\n",
    "\n",
    "plt.xlabel(', '.join(protected_attributes))\n",
    "plt.ylabel('Population Size')\n",
    "plt.title('Population Sizes of Split DataFrames')\n",
    "plt.xticks(rotation=45)\n",
    "plt.legend()\n",
    "plt.tight_layout()\n",
    "plt.show()\n",
    "print(additional_sizes)"
   ]
  },
  {
   "cell_type": "code",
   "execution_count": 6,
   "metadata": {},
   "outputs": [],
   "source": [
    "# import matplotlib.pyplot as plt\n",
    "# import numpy as np\n",
    "\n",
    "# # Define colors for income categories\n",
    "# colors = ['#1f77b4', '#ff7f0e']\n",
    "\n",
    "# # Calculate percentages of income categories for each split\n",
    "# income_categories = ['<=50K', '>50K']  # Define the income categories\n",
    "# income_percentages = {}\n",
    "# legend_labels = []\n",
    "# for split_key, split_df in split_dfs.items():\n",
    "#     income_counts = split_df['income'].value_counts(normalize=True) * 100\n",
    "#     income_percentages[split_key] = [income_counts.get(cat, 0) for cat in income_categories]\n",
    "\n",
    "# # Plot population sizes of all split DataFrames along with income category percentages\n",
    "# plt.figure(figsize=(10, 6))\n",
    "# for i, (split_key, split_df) in enumerate(split_dfs.items()):\n",
    "#     population_size = len(split_df)\n",
    "#     income_percentage = income_percentages[split_key]\n",
    "#     bar_positions = np.arange(len(income_percentage))\n",
    "#     # Normalize the heights of the stacked bars\n",
    "#     normalized_heights = np.array(income_percentage) / 100 * population_size\n",
    "#     # Plot stacked bar chart for each split\n",
    "#     plt.bar(split_key, normalized_heights[0], color=colors[0])\n",
    "#     plt.bar(split_key, normalized_heights[1], bottom=normalized_heights[0], color=colors[1])\n",
    "\n",
    "# plt.xlabel(', '.join(protected_attributes))\n",
    "# plt.ylabel('Population Size')\n",
    "# plt.title('Population Sizes of Split DataFrames')\n",
    "# plt.xticks(rotation=45)\n",
    "\n",
    "# # Create a separate legend for income categories\n",
    "# plt.legend(income_categories, loc='upper right')\n",
    "# plt.tight_layout()\n",
    "# plt.show()\n"
   ]
  },
  {
   "cell_type": "code",
   "execution_count": 7,
   "metadata": {},
   "outputs": [],
   "source": [
    "# # Get the DataFrame with the maximum length\n",
    "# max_length_df_key = max(split_dfs, key=lambda x: len(split_dfs[x]))\n",
    "# print(max_length_df_key)\n",
    "# # Retrieve the DataFrame using the key\n",
    "# max_length_df = split_dfs[max_length_df_key]\n",
    "\n",
    "# max_length_df_class_counts = max_length_df['income'].value_counts()\n",
    "\n",
    "# max_length_df_majority_class = max_length_df_class_counts.idxmax()\n",
    "# max_length_df_majority_class_count = max_length_df_class_counts[majority_class]"
   ]
  },
  {
   "cell_type": "code",
   "execution_count": 8,
   "metadata": {},
   "outputs": [],
   "source": [
    "# # Print split information\n",
    "# for split_key, split_df in split_dfs.items():\n",
    "#     class_counts = split_df['income'].value_counts()\n",
    "#     if len(class_counts) >= 2:  # Check if there are at least two classes\n",
    "#         majority_class = class_counts.idxmax()\n",
    "#         majority_class_count = class_counts[majority_class]\n",
    "#         print(f\"For split '{split_key}':\")\n",
    "#         for class_label, class_count in class_counts.items():\n",
    "#             if class_label != majority_class:\n",
    "#                 minority_class_count = class_count\n",
    "#                 imbalance = majority_class_count - minority_class_count\n",
    "#                 instances_needed = imbalance \n",
    "#                 print(f\"  Class '{class_label}' has {class_count} instances, and {instances_needed} instances are needed for it to become 50/50 with majority class '{majority_class}'.\")\n"
   ]
  },
  {
   "cell_type": "code",
   "execution_count": 9,
   "metadata": {},
   "outputs": [],
   "source": [
    "augmented_dfs = []\n",
    "split_df_keys, split_df_vals = zip(*split_dfs.items())\n",
    "\n",
    "for split_key, split_df in split_dfs.items():\n",
    "    if split_key in additional_sizes:\n",
    "        size = additional_sizes[split_key]\n",
    "        split_synthesizer = adult_dataset_generator.train_synthesizer(split_df, encode=True) \n",
    "        split_synthetic_data = adult_dataset_generator.generate_data(split_synthesizer, num=size)\n",
    "        augmented_data = pd.concat([split_synthetic_data, split_df])\n",
    "        augmented_dfs.append(augmented_data)\n",
    "    else:\n",
    "        augmented_dfs.append(split_df)\n"
   ]
  },
  {
   "cell_type": "code",
   "execution_count": 10,
   "metadata": {},
   "outputs": [],
   "source": [
    "final_augmented_dataset = pd.concat(augmented_dfs)"
   ]
  },
  {
   "cell_type": "code",
   "execution_count": 11,
   "metadata": {},
   "outputs": [
    {
     "data": {
      "text/plain": [
       "(43580, 14)"
      ]
     },
     "execution_count": 11,
     "metadata": {},
     "output_type": "execute_result"
    }
   ],
   "source": [
    "final_augmented_dataset.shape"
   ]
  },
  {
   "cell_type": "code",
   "execution_count": 12,
   "metadata": {},
   "outputs": [],
   "source": [
    "# filename = \"augmented_race_4_sex_2.json\"\n",
    "# folder_path = \"../synthetic_data\"\n",
    "# if not os.path.exists(folder_path):\n",
    "#     os.makedirs(folder_path)\n",
    "\n",
    "# json_file_path = os.path.join(folder_path, filename)\n",
    "# final_augmented_dataset.to_json(json_file_path, orient='records', lines=True)\n"
   ]
  }
 ],
 "metadata": {
  "kernelspec": {
   "display_name": "samplestructures",
   "language": "python",
   "name": "python3"
  },
  "language_info": {
   "codemirror_mode": {
    "name": "ipython",
    "version": 3
   },
   "file_extension": ".py",
   "mimetype": "text/x-python",
   "name": "python",
   "nbconvert_exporter": "python",
   "pygments_lexer": "ipython3",
   "version": "3.11.5"
  }
 },
 "nbformat": 4,
 "nbformat_minor": 2
}
