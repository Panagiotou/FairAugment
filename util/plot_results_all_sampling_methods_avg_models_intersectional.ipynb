{
 "cells": [
  {
   "cell_type": "code",
   "execution_count": 46,
   "metadata": {},
   "outputs": [
    {
     "name": "stdout",
     "output_type": "stream",
     "text": [
      "The autoreload extension is already loaded. To reload it, use:\n",
      "  %reload_ext autoreload\n"
     ]
    }
   ],
   "source": [
    "%load_ext autoreload\n",
    "\n",
    "# Enable autoreload\n",
    "%autoreload 2\n",
    "\n",
    "import sys \n",
    "sys.path.append(\"..\")\n",
    "from src.dataset import Dataset\n",
    "import pandas as pd\n",
    "import numpy as np\n",
    "from definitions import *\n",
    "import copy\n",
    "\n",
    "\n",
    "\n",
    "import matplotlib.pyplot as plt\n",
    "\n",
    "import warnings\n",
    "\n",
    "# Suppress LightGBM categorical_feature warning\n",
    "warnings.filterwarnings(\"ignore\", category=UserWarning, message=\"categorical_feature keyword has been found*\")\n",
    "warnings.filterwarnings(\"ignore\", category=UserWarning, message=\"categorical_feature in param dict is overridden*\")\n",
    "\n",
    "from sklearn.metrics import accuracy_score, f1_score, roc_auc_score, precision_score, recall_score, balanced_accuracy_score\n",
    "from catboost import CatBoostClassifier\n",
    "from sklearn.tree import DecisionTreeClassifier\n",
    "from sklearn.ensemble import RandomForestClassifier\n",
    "from lightgbm import LGBMClassifier\n",
    "import xgboost as xgb\n",
    "\n",
    "\n",
    "\n",
    "\n"
   ]
  },
  {
   "cell_type": "code",
   "execution_count": 47,
   "metadata": {},
   "outputs": [
    {
     "name": "stdout",
     "output_type": "stream",
     "text": [
      "Dataset adult_fnlwgt_educational-num has ['workclass', 'education', 'marital-status', 'occupation', 'relationship', 'race', 'sex', 'native-country'] categorical and ['age', 'capital-gain', 'capital-loss', 'hours-per-week'] numerical columns.\n"
     ]
    }
   ],
   "source": [
    "dataset_name = \"adult\"\n",
    "\n",
    "\n",
    "\n",
    "dataset_name_latex = \"\\\\\"+dataset_name\n",
    "\n",
    "\n",
    "if dataset_name==\"credit\":\n",
    "    dataset_name_latex += \"dataset\"\n",
    "dataset_generator = Dataset(dataset_name)\n",
    "all_data = dataset_generator.original_dataframe.copy()\n",
    "\n",
    "\n",
    "\n",
    "\n",
    "arrays = np.load('../results/{}/arrays/arrays_all_models_all_fairness_metrics_all_protected.npz'.format(dataset_name))\n",
    "\n",
    "average = arrays['average']\n",
    "std = arrays['std']\n",
    "\n",
    "# average_over_problems = np.mean(average, axis=0)\n",
    "# std_over_problems = np.std(average, axis=0)\n"
   ]
  },
  {
   "cell_type": "code",
   "execution_count": 48,
   "metadata": {},
   "outputs": [],
   "source": [
    "column_types_map = [dataset_generator.dtype_map[col] for col in all_data.columns]\n",
    "\n",
    "# Check if all columns have the data type 'category'\n",
    "all_categorical = all(dtype == 'category' for dtype in column_types_map)\n",
    "\n",
    "# generative_methods = [\"tvae\", \"cart\", \"smote\"]\n",
    "protected_attributes_all = [\"sex\", \"race\", \"sex & race\"]\n",
    "sampling_methods = [\"class\", \"class & protected\", \"protected\", \"same (ratio)\"]\n",
    "generative_methods = [\"SDV-GC\", \"CTGAN\", \"TVAE\", \"CART\", \"SMOTE-NC\"]\n",
    "\n",
    "\n",
    "\n"
   ]
  },
  {
   "cell_type": "code",
   "execution_count": 49,
   "metadata": {},
   "outputs": [
    {
     "data": {
      "text/plain": [
       "(3, 1, 21, 1, 6)"
      ]
     },
     "execution_count": 49,
     "metadata": {},
     "output_type": "execute_result"
    }
   ],
   "source": [
    "average.shape"
   ]
  },
  {
   "cell_type": "code",
   "execution_count": 88,
   "metadata": {},
   "outputs": [
    {
     "data": {
      "image/png": "[encoded data removed]",
      "text/plain": [
       "<Figure size 2500x500 with 4 Axes>"
      ]
     },
     "metadata": {},
     "output_type": "display_data"
    }
   ],
   "source": [
    "fig, axes = plt.subplots(nrows=1, ncols=len(sampling_methods), figsize=(25, 5), sharey=True)\n",
    "\n",
    "width = 0.1\n",
    "tab10 = plt.get_cmap('tab10')\n",
    "\n",
    "ind = np.arange(len(protected_attributes_all)) \n",
    "\n",
    "for s, sampling_method in enumerate(sampling_methods):\n",
    "\n",
    "    real = average[:, 0, 0, 0]\n",
    "    rest_for_sampling_method = average[:, 0, 1+s:1+s+len(generative_methods), 0]\n",
    "    ax = axes[s]\n",
    "\n",
    "    for g, generative_method in enumerate(generative_methods):\n",
    "\n",
    "        method_res = rest_for_sampling_method[:,g,:]\n",
    "\n",
    "\n",
    "        roc_auc = 1- method_res[:,2]/real[:,2]\n",
    "        # eqodd = 1 - rest_for_sampling_method[:,0,3]/real[3]\n",
    "        # sp = 1 - rest_for_sampling_method[:,0,4]/real[4]\n",
    "        # eqopp = 1 - rest_for_sampling_method[:,0,5]/real[5]\n",
    "\n",
    "        color = tab10(g % 10)\n",
    "        ax.bar(ind + g*width, roc_auc, width, color = color)\n",
    "        ax.set_xticks(ind+len(generative_methods)/2* width, protected_attributes_all) \n",
    "\n",
    "\n",
    "\n",
    "\n",
    "\n",
    "    # print(rest_for_sampling_method.shape)\n",
    "    # ax = axes[p, s]\n",
    "\n",
    "    # # for j, generative_method in enumerate(generative_methods):\n",
    "\n",
    "    # roc_auc = 1- rest_for_sampling_method[:,0,2]/real[2]\n",
    "    # eqodd = 1 - rest_for_sampling_method[:,0,3]/real[3]\n",
    "    # sp = 1 - rest_for_sampling_method[:,0,4]/real[4]\n",
    "    # eqopp = 1 - rest_for_sampling_method[:,0,5]/real[5]\n",
    "\n",
    "    # ax.bar(ind, roc_auc, width, color = 'r') \n",
    "    # ax.bar(ind+width, eqodd, width, color = 'b') \n",
    "    # ax.bar(ind+2*width, sp, width, color = 'g') \n",
    "    # ax.bar(ind+3*width, eqopp, width, color = 'y') \n",
    "\n",
    "    # ax.set_xticks(ind+width, generative_methods) \n",
    "\n",
    "\n",
    "            \n",
    "            \n",
    "\n",
    "\n",
    "    # break\n",
    "\n",
    "plt.show()\n"
   ]
  },
  {
   "cell_type": "code",
   "execution_count": 51,
   "metadata": {},
   "outputs": [
    {
     "ename": "ValueError",
     "evalue": "The number of FixedLocator locations (5), usually from a call to set_ticks, does not match the number of labels (3).",
     "output_type": "error",
     "traceback": [
      "\u001b[0;31m---------------------------------------------------------------------------\u001b[0m",
      "\u001b[0;31mValueError\u001b[0m                                Traceback (most recent call last)",
      "Cell \u001b[0;32mIn[51], line 41\u001b[0m\n\u001b[1;32m     38\u001b[0m ax4 \u001b[38;5;241m=\u001b[39m fig\u001b[38;5;241m.\u001b[39madd_subplot(gs[\u001b[38;5;241m0\u001b[39m, \u001b[38;5;241m3\u001b[39m])  \u001b[38;5;66;03m# Fourth subplot\u001b[39;00m\n\u001b[1;32m     40\u001b[0m \u001b[38;5;66;03m# Plot bar plots in each subplot\u001b[39;00m\n\u001b[0;32m---> 41\u001b[0m \u001b[43mplot_bars\u001b[49m\u001b[43m(\u001b[49m\u001b[43max1\u001b[49m\u001b[43m,\u001b[49m\u001b[43m \u001b[49m\u001b[43m[\u001b[49m\u001b[43mdata1\u001b[49m\u001b[43m,\u001b[49m\u001b[43m \u001b[49m\u001b[43mdata2\u001b[49m\u001b[43m,\u001b[49m\u001b[43m \u001b[49m\u001b[43mdata3\u001b[49m\u001b[43m]\u001b[49m\u001b[43m,\u001b[49m\u001b[43m \u001b[49m\u001b[38;5;124;43m'\u001b[39;49m\u001b[38;5;124;43mBar Plot 1\u001b[39;49m\u001b[38;5;124;43m'\u001b[39;49m\u001b[43m)\u001b[49m\n\u001b[1;32m     42\u001b[0m plot_bars(ax2, [data1, data4, data5], \u001b[38;5;124m'\u001b[39m\u001b[38;5;124mBar Plot 2\u001b[39m\u001b[38;5;124m'\u001b[39m)\n\u001b[1;32m     43\u001b[0m plot_bars(ax3, [data2, data3, data4], \u001b[38;5;124m'\u001b[39m\u001b[38;5;124mBar Plot 3\u001b[39m\u001b[38;5;124m'\u001b[39m)\n",
      "Cell \u001b[0;32mIn[51], line 25\u001b[0m, in \u001b[0;36mplot_bars\u001b[0;34m(ax, data_sets, title)\u001b[0m\n\u001b[1;32m     23\u001b[0m ax\u001b[38;5;241m.\u001b[39mset_title(title)\n\u001b[1;32m     24\u001b[0m ax\u001b[38;5;241m.\u001b[39mset_xticks(x)\n\u001b[0;32m---> 25\u001b[0m \u001b[43max\u001b[49m\u001b[38;5;241;43m.\u001b[39;49m\u001b[43mset_xticklabels\u001b[49m\u001b[43m(\u001b[49m\u001b[43mlabels\u001b[49m\u001b[43m)\u001b[49m\n\u001b[1;32m     26\u001b[0m ax\u001b[38;5;241m.\u001b[39mlegend()\n",
      "File \u001b[0;32m~/anaconda3/envs/samplestructures/lib/python3.11/site-packages/matplotlib/axes/_base.py:74\u001b[0m, in \u001b[0;36m_axis_method_wrapper.__set_name__.<locals>.wrapper\u001b[0;34m(self, *args, **kwargs)\u001b[0m\n\u001b[1;32m     73\u001b[0m \u001b[38;5;28;01mdef\u001b[39;00m \u001b[38;5;21mwrapper\u001b[39m(\u001b[38;5;28mself\u001b[39m, \u001b[38;5;241m*\u001b[39margs, \u001b[38;5;241m*\u001b[39m\u001b[38;5;241m*\u001b[39mkwargs):\n\u001b[0;32m---> 74\u001b[0m     \u001b[38;5;28;01mreturn\u001b[39;00m \u001b[43mget_method\u001b[49m\u001b[43m(\u001b[49m\u001b[38;5;28;43mself\u001b[39;49m\u001b[43m)\u001b[49m\u001b[43m(\u001b[49m\u001b[38;5;241;43m*\u001b[39;49m\u001b[43margs\u001b[49m\u001b[43m,\u001b[49m\u001b[43m \u001b[49m\u001b[38;5;241;43m*\u001b[39;49m\u001b[38;5;241;43m*\u001b[39;49m\u001b[43mkwargs\u001b[49m\u001b[43m)\u001b[49m\n",
      "File \u001b[0;32m~/anaconda3/envs/samplestructures/lib/python3.11/site-packages/matplotlib/axis.py:2060\u001b[0m, in \u001b[0;36mAxis.set_ticklabels\u001b[0;34m(self, labels, minor, fontdict, **kwargs)\u001b[0m\n\u001b[1;32m   2056\u001b[0m \u001b[38;5;28;01melif\u001b[39;00m \u001b[38;5;28misinstance\u001b[39m(locator, mticker\u001b[38;5;241m.\u001b[39mFixedLocator):\n\u001b[1;32m   2057\u001b[0m     \u001b[38;5;66;03m# Passing [] as a list of labels is often used as a way to\u001b[39;00m\n\u001b[1;32m   2058\u001b[0m     \u001b[38;5;66;03m# remove all tick labels, so only error for > 0 labels\u001b[39;00m\n\u001b[1;32m   2059\u001b[0m     \u001b[38;5;28;01mif\u001b[39;00m \u001b[38;5;28mlen\u001b[39m(locator\u001b[38;5;241m.\u001b[39mlocs) \u001b[38;5;241m!=\u001b[39m \u001b[38;5;28mlen\u001b[39m(labels) \u001b[38;5;129;01mand\u001b[39;00m \u001b[38;5;28mlen\u001b[39m(labels) \u001b[38;5;241m!=\u001b[39m \u001b[38;5;241m0\u001b[39m:\n\u001b[0;32m-> 2060\u001b[0m         \u001b[38;5;28;01mraise\u001b[39;00m \u001b[38;5;167;01mValueError\u001b[39;00m(\n\u001b[1;32m   2061\u001b[0m             \u001b[38;5;124m\"\u001b[39m\u001b[38;5;124mThe number of FixedLocator locations\u001b[39m\u001b[38;5;124m\"\u001b[39m\n\u001b[1;32m   2062\u001b[0m             \u001b[38;5;124mf\u001b[39m\u001b[38;5;124m\"\u001b[39m\u001b[38;5;124m (\u001b[39m\u001b[38;5;132;01m{\u001b[39;00m\u001b[38;5;28mlen\u001b[39m(locator\u001b[38;5;241m.\u001b[39mlocs)\u001b[38;5;132;01m}\u001b[39;00m\u001b[38;5;124m), usually from a call to\u001b[39m\u001b[38;5;124m\"\u001b[39m\n\u001b[1;32m   2063\u001b[0m             \u001b[38;5;124m\"\u001b[39m\u001b[38;5;124m set_ticks, does not match\u001b[39m\u001b[38;5;124m\"\u001b[39m\n\u001b[1;32m   2064\u001b[0m             \u001b[38;5;124mf\u001b[39m\u001b[38;5;124m\"\u001b[39m\u001b[38;5;124m the number of labels (\u001b[39m\u001b[38;5;132;01m{\u001b[39;00m\u001b[38;5;28mlen\u001b[39m(labels)\u001b[38;5;132;01m}\u001b[39;00m\u001b[38;5;124m).\u001b[39m\u001b[38;5;124m\"\u001b[39m)\n\u001b[1;32m   2065\u001b[0m     tickd \u001b[38;5;241m=\u001b[39m {loc: lab \u001b[38;5;28;01mfor\u001b[39;00m loc, lab \u001b[38;5;129;01min\u001b[39;00m \u001b[38;5;28mzip\u001b[39m(locator\u001b[38;5;241m.\u001b[39mlocs, labels)}\n\u001b[1;32m   2066\u001b[0m     func \u001b[38;5;241m=\u001b[39m functools\u001b[38;5;241m.\u001b[39mpartial(\u001b[38;5;28mself\u001b[39m\u001b[38;5;241m.\u001b[39m_format_with_dict, tickd)\n",
      "\u001b[0;31mValueError\u001b[0m: The number of FixedLocator locations (5), usually from a call to set_ticks, does not match the number of labels (3)."
     ]
    },
    {
     "data": {
      "image/png": "[encoded data removed]",
      "text/plain": [
       "<Figure size 2000x500 with 4 Axes>"
      ]
     },
     "metadata": {},
     "output_type": "display_data"
    }
   ],
   "source": [
    "import matplotlib.pyplot as plt\n",
    "import numpy as np\n",
    "from matplotlib.gridspec import GridSpec\n",
    "\n",
    "# Sample data for the bar plots\n",
    "data1 = [3, 2, 5, 7, 1]\n",
    "data2 = [1, 4, 6, 8, 2]\n",
    "data3 = [2, 3, 4, 5, 6]\n",
    "data4 = [4, 5, 6, 7, 8]\n",
    "data5 = [5, 6, 7, 8, 9]\n",
    "labels = ['A', 'B', 'C']\n",
    "\n",
    "# Function to plot three separate bar plots in each axis\n",
    "def plot_bars(ax, data_sets, title):\n",
    "    x = np.arange(len(data_sets[0]))  # the label locations\n",
    "    width = 0.25  # the width of the bars\n",
    "\n",
    "    for i, data in enumerate(data_sets):\n",
    "        ax.bar(x + (i - 1) * width, data, width, label=f'Plot {labels[i]}')\n",
    "\n",
    "    ax.set_xlabel('Category')\n",
    "    ax.set_ylabel('Values')\n",
    "    ax.set_title(title)\n",
    "    ax.set_xticks(x)\n",
    "    ax.set_xticklabels(labels)\n",
    "    ax.legend()\n",
    "\n",
    "# Create a figure\n",
    "fig = plt.figure(figsize=(20, 5))\n",
    "\n",
    "# Create a GridSpec with 1 row and 4 columns\n",
    "gs = GridSpec(1, 4, figure=fig)\n",
    "\n",
    "# Create sub-axes based on GridSpec\n",
    "ax1 = fig.add_subplot(gs[0, 0])  # First subplot\n",
    "ax2 = fig.add_subplot(gs[0, 1])  # Second subplot\n",
    "ax3 = fig.add_subplot(gs[0, 2])  # Third subplot\n",
    "ax4 = fig.add_subplot(gs[0, 3])  # Fourth subplot\n",
    "\n",
    "# Plot bar plots in each subplot\n",
    "plot_bars(ax1, [data1, data2, data3], 'Bar Plot 1')\n",
    "plot_bars(ax2, [data1, data4, data5], 'Bar Plot 2')\n",
    "plot_bars(ax3, [data2, data3, data4], 'Bar Plot 3')\n",
    "plot_bars(ax4, [data3, data4, data5], 'Bar Plot 4')\n",
    "\n",
    "plt.tight_layout()  # Adjust subplots to fit into figure area.\n",
    "plt.show()\n"
   ]
  }
 ],
 "metadata": {
  "kernelspec": {
   "display_name": "samplestructures",
   "language": "python",
   "name": "python3"
  },
  "language_info": {
   "codemirror_mode": {
    "name": "ipython",
    "version": 3
   },
   "file_extension": ".py",
   "mimetype": "text/x-python",
   "name": "python",
   "nbconvert_exporter": "python",
   "pygments_lexer": "ipython3",
   "version": "3.1.-1"
  }
 },
 "nbformat": 4,
 "nbformat_minor": 2
}
