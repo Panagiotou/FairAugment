{
 "cells": [
  {
   "cell_type": "code",
   "execution_count": 6,
   "metadata": {},
   "outputs": [
    {
     "name": "stdout",
     "output_type": "stream",
     "text": [
      "The autoreload extension is already loaded. To reload it, use:\n",
      "  %reload_ext autoreload\n"
     ]
    }
   ],
   "source": [
    "%load_ext autoreload\n",
    "\n",
    "# Enable autoreload\n",
    "%autoreload 2\n",
    "\n",
    "import sys \n",
    "sys.path.append(\"..\")\n",
    "from src.dataset import Dataset\n",
    "import pandas as pd\n",
    "import numpy as np\n",
    "from definitions import *\n",
    "import copy\n",
    "\n",
    "\n",
    "\n",
    "import matplotlib.pyplot as plt\n",
    "\n",
    "import warnings\n",
    "\n",
    "# Suppress LightGBM categorical_feature warning\n",
    "warnings.filterwarnings(\"ignore\", category=UserWarning, message=\"categorical_feature keyword has been found*\")\n",
    "warnings.filterwarnings(\"ignore\", category=UserWarning, message=\"categorical_feature in param dict is overridden*\")\n",
    "\n",
    "from sklearn.metrics import accuracy_score, f1_score, roc_auc_score, precision_score, recall_score, balanced_accuracy_score\n",
    "from catboost import CatBoostClassifier\n",
    "from sklearn.tree import DecisionTreeClassifier\n",
    "from sklearn.ensemble import RandomForestClassifier\n",
    "from lightgbm import LGBMClassifier\n",
    "import xgboost as xgb\n",
    "\n",
    "\n",
    "\n",
    "\n"
   ]
  },
  {
   "cell_type": "code",
   "execution_count": 7,
   "metadata": {},
   "outputs": [
    {
     "name": "stdout",
     "output_type": "stream",
     "text": [
      "Dataset adult_fnlwgt_educational-num has ['workclass', 'education', 'marital-status', 'occupation', 'relationship', 'race', 'sex', 'native-country'] categorical and ['age', 'capital-gain', 'capital-loss', 'hours-per-week'] numerical columns.\n"
     ]
    }
   ],
   "source": [
    "dataset_name = \"adult\"\n",
    "\n",
    "protected_attributes_all = [\"sex\", \"race\", \"both\"]\n",
    "\n",
    "\n",
    "dataset_name_latex = \"\\\\\"+dataset_name\n",
    "\n",
    "\n",
    "if dataset_name==\"credit\":\n",
    "    dataset_name_latex += \"dataset\"\n",
    "dataset_generator = Dataset(dataset_name)\n",
    "all_data = dataset_generator.original_dataframe.copy()\n",
    "\n",
    "\n",
    "\n",
    "\n",
    "arrays = np.load('../results/{}/arrays/arrays_all_models_all_fairness_metrics_all_protected.npz'.format(dataset_name))\n",
    "\n",
    "average = arrays['average']\n",
    "std = arrays['std']\n",
    "\n",
    "# average_over_problems = np.mean(average, axis=0)\n",
    "# std_over_problems = np.std(average, axis=0)\n"
   ]
  },
  {
   "cell_type": "code",
   "execution_count": 8,
   "metadata": {},
   "outputs": [
    {
     "name": "stderr",
     "output_type": "stream",
     "text": [
      "/home/panagiotou/Desktop/FairAugment/util/../src/dataset.py:658: FutureWarning: The default of observed=False is deprecated and will be changed to True in a future version of pandas. Pass observed=False to retain current behavior or observed=True to adopt the future default and silence this warning.\n",
      "  for attr_values, indices in dataframe.groupby(protected_attributes).groups.items():\n"
     ]
    }
   ],
   "source": [
    "column_types_map = [dataset_generator.dtype_map[col] for col in all_data.columns]\n",
    "\n",
    "# Check if all columns have the data type 'category'\n",
    "all_categorical = all(dtype == 'category' for dtype in column_types_map)\n",
    "\n",
    "# generative_methods = [\"tvae\", \"cart\", \"smote\"]\n",
    "generative_methods = [\"gaussian_copula\", \"ctgan\", \"tvae\", \"cart\", \"smote\"]\n",
    "\n",
    "if all_categorical:\n",
    "    print(\"Only categorical features, dropping SMOTE\")\n",
    "    generative_methods.remove(\"smote\")\n",
    "\n",
    "problem_classification = {\"metrics\":[accuracy_score, f1_score, roc_auc_score],\n",
    "                    \"metric_names\":[\"\\\\acc\", \"\\\\f1\", \"\\\\rocauc\"],\n",
    "                    \"fairness_metrics\": [eq_odd, stat_par, eq_opp],\n",
    "                    \"fairness_metric_names\": [\"Equalized odds\", \"Statistical Parity\", \"Equal Opportunity\"],\n",
    "                    \"fairness_metric_names\": [\"\\\\eqoddtable\",\"\\\\statpartable\", \"\\\\eqopptable\"],\n",
    "                    \"generative_methods\":generative_methods,\n",
    "                    \"sampling_methods\":['\\\\classonly', '\\\\classprotectedtable', '\\\\protectedonly', '\\\\sameclass']}\n",
    "\n",
    "\n",
    "\n",
    "numeric_transformer = Pipeline(steps=[\n",
    "    ('scaler', StandardScaler())])\n",
    "\n",
    "categorical_transformer = Pipeline(steps=[\n",
    "    ('onehot', OneHotEncoder(handle_unknown='ignore'))])\n",
    "\n",
    "categorical_cols = dataset_generator.categorical_input_cols.copy()\n",
    "\n",
    "transformations = ColumnTransformer(\n",
    "    transformers=[\n",
    "        ('num', numeric_transformer, dataset_generator.continuous_input_cols),\n",
    "        ('cat', categorical_transformer, categorical_cols)])\n",
    "\n",
    "\n",
    "clf_RF = Pipeline(steps=[('preprocessor', transformations),\n",
    "                ('classifier', RandomForestClassifier(random_state=42))])\n",
    "clf_DT = Pipeline(steps=[('preprocessor', transformations),\n",
    "                    ('classifier', DecisionTreeClassifier(random_state=42))])     \n",
    "\n",
    "# clf_lgbm = Pipeline(steps=[('preprocessor', transformations_lgbm),\n",
    "#                     ('classifier', LGBMClassifier(categorical_feature=dataset_generator.categorical_input_col_locations, verbose=-1))])  \n",
    "\n",
    "                    \n",
    "# model_names_classification = [\"LightGBM\", \"XGBoost\", \"Decission Tree\", \"Random Forest\"]\n",
    "model_names_classification = [\"\\\\lgbm\", \"\\\\xgb\", \"\\\\dt\", \"\\\\rf\"]\n",
    "\n",
    "\n",
    "models_classification = [LGBMClassifier, xgb.XGBClassifier, clf_DT, clf_RF]\n",
    "\n",
    "\n",
    "\n",
    "args = [{\"categorical_feature\":dataset_generator.categorical_input_col_locations, \"verbose\":-1}, {\"enable_categorical\":True, \"tree_method\":'hist'}, {}, {}]\n",
    "\n",
    "problems_classification = []\n",
    "for model, name, arg in zip(models_classification, model_names_classification, args):\n",
    "    problem = problem_classification.copy()\n",
    "    problem[\"model\"] = copy.deepcopy(model)\n",
    "    problem[\"model_name\"] = name\n",
    "    problem[\"args\"] = arg\n",
    "    problems_classification.append(problem)\n",
    "\n",
    "\n",
    "metric_names_actual_all = [\"\\\\acc\", \"\\\\fone\", \"\\\\rocauc\", \"\\\\eqoddtable\",\"\\\\statpartable\", \"\\\\eqopptable\"]\n",
    "\n",
    "metrics_optimal_all = [\"max\", \"max\", \"max\", \"min\", \"min\", \"min\"]\n",
    "\n",
    "metrics_keep = [2, 3, 4, 5]\n",
    "\n",
    "\n",
    "names_train = [\"\\gaussiancopulatable\", \"\\ctgan\", \"\\\\tvae\", \"\\\\cart\", \"\\\\smote\"]\n",
    "\n",
    "if all_categorical:\n",
    "    print(\"Only categorical features, dropping SMOTE\")\n",
    "    names_train.remove(\"\\\\smote\")\n",
    "\n",
    "test_sets, _ = dataset_generator.split_population(all_data)\n",
    "# names_test = [f\"Sex={value}\" for value in test_sets.keys()]\n",
    "names_test = []\n",
    "names_test.append(\"Overall\")\n",
    "\n",
    "\n",
    "average_use = average[..., metrics_keep]\n",
    "std_use = std[..., metrics_keep]\n",
    "metric_names_actual = [metric_names_actual_all[i] for i in metrics_keep]\n",
    "metrics_optimal = [metrics_optimal_all[i] for i in metrics_keep]\n"
   ]
  },
  {
   "cell_type": "code",
   "execution_count": 9,
   "metadata": {},
   "outputs": [
    {
     "data": {
      "text/plain": [
       "(3, 1, 21, 1, 4)"
      ]
     },
     "execution_count": 9,
     "metadata": {},
     "output_type": "execute_result"
    }
   ],
   "source": [
    "average_use.shape"
   ]
  },
  {
   "cell_type": "code",
   "execution_count": 10,
   "metadata": {},
   "outputs": [
    {
     "name": "stdout",
     "output_type": "stream",
     "text": [
      "\\begin{table*}[h]\n",
      "\\caption{\\adult}\n",
      "\\label{tab:results_adult}\n",
      "\\centering\n",
      "\\begin{tabular}{l l c c c c c c c c c c c c}\n",
      "\\hline\n",
      "\\samplingmethod & \\training & \\multicolumn{12}{c}{\\metrics} \\\\\n",
      "&  & \\multicolumn{4}{c}{sex} & \\multicolumn{4}{c}{race} & \\multicolumn{4}{c}{both} \\\\\n",
      "&  & \\rocauc & \\eqoddtable & \\statpartable & \\eqopptable & \\rocauc & \\eqoddtable & \\statpartable & \\eqopptable & \\rocauc & \\eqoddtable & \\statpartable & \\eqopptable \\\\\n",
      "\\hline & \\multirow{1}{*}{Real} & 0.798 & 0.132 & 0.180 & 0.067 & 0.796 & 0.125 & 0.179 & 0.060 & 0.806 & 0.140 & 0.192 & 0.065 \\\\\n",
      "\\hline\n",
      "\\hline\n",
      "\\multirow{5}{*}{\\classonly} & \\multirow{1}{*}{\\gaussiancopulatable} & \\cellcolor{blue!15}0.816 & \\cellcolor{blue!15}0.181 & \\cellcolor{blue!15}0.223 & 0.074 & 0.837 & \\cellcolor{blue!15}\\textbf{0.116} & 0.223 & \\textbf{0.006} & 0.832 & 0.130 & 0.226 & \\textbf{0.017} \\\\\n",
      " & \\multirow{1}{*}{\\ctgan} & 0.795 & 0.130 & \\cellcolor{blue!15}0.181 & \\cellcolor{blue!15}0.063 & 0.805 & 0.179 & 0.203 & 0.096 & 0.815 & 0.218 & 0.234 & 0.102 \\\\\n",
      " & \\multirow{1}{*}{\\tvae} & \\cellcolor{blue!15}\\textbf{0.838} & 0.112 & \\cellcolor{blue!15}0.221 & \\cellcolor{blue!15}\\textbf{0.004} & 0.834 & 0.141 & 0.231 & \\underline{0.025} & 0.788 & 0.198 & 0.189 & 0.130 \\\\\n",
      " & \\multirow{1}{*}{\\cart} & 0.796 & \\cellcolor{blue!15}0.145 & \\cellcolor{blue!15}0.182 & 0.080 & 0.796 & 0.171 & 0.187 & 0.105 & 0.797 & 0.132 & 0.181 & 0.066 \\\\\n",
      " & \\multirow{1}{*}{\\smote} & 0.794 & \\cellcolor{blue!15}0.222 & \\cellcolor{blue!15}0.199 & 0.146 & 0.798 & 0.125 & 0.177 & 0.063 & 0.800 & \\textbf{0.100} & 0.173 & \\underline{0.041} \\\\\n",
      "\\hline\n",
      "\\multirow{5}{*}{\\classprotectedtable} & \\multirow{1}{*}{\\gaussiancopulatable} & \\cellcolor{blue!15}0.801 & 0.070 & 0.164 & \\cellcolor{blue!15}\\underline{0.015} & 0.806 & \\cellcolor{blue!15}\\underline{0.124} & \\textbf{0.137} & 0.089 & 0.804 & \\underline{0.112} & \\textbf{0.139} & 0.076 \\\\\n",
      " & \\multirow{1}{*}{\\ctgan} & 0.798 & \\cellcolor{blue!15}0.335 & 0.174 & 0.261 & 0.802 & 0.290 & 0.174 & 0.212 & 0.814 & 0.218 & 0.188 & 0.113 \\\\\n",
      " & \\multirow{1}{*}{\\tvae} & \\cellcolor{blue!15}0.818 & \\cellcolor{blue!15}0.256 & \\cellcolor{blue!15}0.181 & 0.158 & 0.843 & 0.227 & 0.218 & 0.085 & 0.836 & 0.287 & 0.222 & 0.150 \\\\\n",
      " & \\multirow{1}{*}{\\cart} & 0.793 & \\cellcolor{blue!15}0.391 & \\cellcolor{blue!15}0.244 & 0.238 & 0.809 & 0.319 & 0.241 & 0.172 & 0.810 & 0.316 & 0.188 & 0.224 \\\\\n",
      " & \\multirow{1}{*}{\\smote} & \\cellcolor{blue!15}\\underline{0.832} & \\cellcolor{blue!15}0.281 & \\cellcolor{blue!15}0.229 & 0.123 & 0.826 & 0.308 & 0.220 & 0.163 & 0.769 & 0.319 & 0.186 & 0.232 \\\\\n",
      "\\hline\n",
      "\\multirow{5}{*}{\\protectedonly} & \\multirow{1}{*}{\\gaussiancopulatable} & 0.762 & \\cellcolor{blue!15}0.396 & 0.150 & 0.353 & \\cellcolor{blue!15}\\underline{0.787} & 0.319 & 0.165 & 0.243 & 0.769 & 0.285 & \\underline{0.148} & 0.226 \\\\\n",
      " & \\multirow{1}{*}{\\ctgan} & 0.755 & \\cellcolor{blue!15}0.292 & 0.122 & 0.258 & 0.799 & 0.252 & 0.165 & 0.182 & 0.799 & 0.305 & 0.169 & 0.232 \\\\\n",
      " & \\multirow{1}{*}{\\tvae} & \\cellcolor{blue!15}0.800 & \\cellcolor{blue!15}0.288 & 0.167 & 0.213 & 0.803 & 0.251 & \\underline{0.161} & 0.183 & 0.803 & 0.273 & 0.162 & 0.207 \\\\\n",
      " & \\multirow{1}{*}{\\cart} & 0.797 & \\cellcolor{blue!15}0.768 & \\cellcolor{blue!15}0.300 & 0.651 & 0.798 & 0.782 & 0.336 & 0.618 & 0.811 & 0.667 & 0.340 & 0.492 \\\\\n",
      " & \\multirow{1}{*}{\\smote} & \\cellcolor{blue!15}0.816 & \\cellcolor{blue!15}0.716 & \\cellcolor{blue!15}0.328 & 0.536 & 0.836 & 0.577 & 0.335 & 0.388 & 0.833 & 0.591 & 0.335 & 0.371 \\\\\n",
      "\\hline\n",
      "\\multirow{5}{*}{\\sameclass} & \\multirow{1}{*}{\\gaussiancopulatable} & 0.795 & \\cellcolor{blue!15}\\underline{0.779} & \\cellcolor{blue!15}\\textbf{0.389} & 0.530 & 0.803 & 0.772 & 0.394 & 0.542 & 0.805 & 0.749 & 0.331 & 0.577 \\\\\n",
      " & \\multirow{1}{*}{\\ctgan} & \\cellcolor{blue!15}0.828 & \\cellcolor{blue!15}0.611 & \\cellcolor{blue!15}\\underline{0.353} & 0.407 & 0.822 & 0.645 & 0.339 & 0.429 & \\textbf{0.743} & 0.610 & 0.223 & 0.532 \\\\\n",
      " & \\multirow{1}{*}{\\tvae} & 0.746 & \\cellcolor{blue!15}0.502 & \\cellcolor{blue!15}0.215 & 0.436 & \\cellcolor{blue!15}\\textbf{0.779} & 0.735 & 0.282 & 0.615 & \\underline{0.762} & 0.671 & 0.263 & 0.564 \\\\\n",
      " & \\multirow{1}{*}{\\cart} & 0.747 & \\cellcolor{blue!15}\\textbf{0.809} & \\cellcolor{blue!15}0.205 & 0.755 & 0.799 & 0.782 & 0.295 & 0.661 & 0.798 & 0.633 & 0.293 & 0.508 \\\\\n",
      " & \\multirow{1}{*}{\\smote} & \\cellcolor{blue!15}0.802 & \\cellcolor{blue!15}0.765 & \\cellcolor{blue!15}0.294 & 0.651 & 0.810 & 0.804 & 0.308 & 0.669 & 0.807 & 0.776 & 0.295 & 0.655 \\\\\n",
      "\\hline\n",
      "\\end{tabular}\n",
      "\\end{table*}\n"
     ]
    }
   ],
   "source": [
    "color_best_matrix = [0, 1, 2, 3, 4, 5]\n",
    "\n",
    "latex_table = generate_latex_table_max_all_methods_intersectional(average_use, std_use, names_train, names_test, problems_classification, protected_attributes_all, metric_names_actual=metric_names_actual, test_data=True, metrics_optimal=metrics_optimal, dataset_name=dataset_name_latex, longtable=False, color_best_matrix=color_best_matrix, include_std=False)\n",
    "print(latex_table)"
   ]
  }
 ],
 "metadata": {
  "kernelspec": {
   "display_name": "samplestructures",
   "language": "python",
   "name": "python3"
  },
  "language_info": {
   "codemirror_mode": {
    "name": "ipython",
    "version": 3
   },
   "file_extension": ".py",
   "mimetype": "text/x-python",
   "name": "python",
   "nbconvert_exporter": "python",
   "pygments_lexer": "ipython3",
   "version": "3.1.-1"
  }
 },
 "nbformat": 4,
 "nbformat_minor": 2
}
